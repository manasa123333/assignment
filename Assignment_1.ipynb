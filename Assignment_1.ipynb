{
 "cells": [
  {
   "cell_type": "markdown",
   "id": "6f78dffb-421d-4d4a-85ed-de77f8093922",
   "metadata": {},
   "source": [
    "1.Who developed python programming language?\n",
    "=> Python was developed by Guido van Rossum."
   ]
  },
  {
   "cell_type": "markdown",
   "id": "ed558e1a-3be3-4284-a06d-57f5400d2a32",
   "metadata": {},
   "source": [
    "2.Which type of programming does python support?\n",
    "=> Python is a multi-paradigm programming language"
   ]
  },
  {
   "cell_type": "markdown",
   "id": "36978e44-dcc4-4167-9ef3-3d1eb652da67",
   "metadata": {},
   "source": [
    "3. Is Python case sensitive when dealing with identifiers ?\n",
    "=> Yes Python is a case sensitive language"
   ]
  },
  {
   "cell_type": "markdown",
   "id": "94db5d4e-e60b-49ed-988f-150149a367b8",
   "metadata": {},
   "source": [
    "4.What is the correct extension of the python file ? \n",
    "=> .py extension"
   ]
  },
  {
   "cell_type": "markdown",
   "id": "635dfa48-1878-48f2-9238-78f09999844b",
   "metadata": {},
   "source": [
    "5. Is Python code compiled or interpreted ?\n",
    "  => Python is an interpreted language"
   ]
  },
  {
   "cell_type": "markdown",
   "id": "7c6af132-efe9-4631-9232-8a9fa049b05e",
   "metadata": {},
   "source": [
    "6.Name a few blocks of code used to define in Python language ?\n",
    "=> a module,a function body,and a class definition."
   ]
  },
  {
   "cell_type": "markdown",
   "id": "e8da408c-783c-4d1f-a824-52082f04bff9",
   "metadata": {},
   "source": [
    "7.State a character used to give single-line comments in Python ?\n",
    "=> #"
   ]
  },
  {
   "cell_type": "markdown",
   "id": "801ba433-5277-473b-8333-72e0a37e3743",
   "metadata": {},
   "source": [
    "8.Mention functions which can help us find the version of python that we are currently working on ?\n",
    "=>1. sys.version\n",
    "  2.sys.version_info\n",
    "  3.platform.python_version()"
   ]
  },
  {
   "cell_type": "markdown",
   "id": "ea315951-3ae5-4592-948e-213a52248ee3",
   "metadata": {},
   "source": [
    "9. Python supports the creation of ananymous functions at runtime using a construct called  \n",
    " => lambda"
   ]
  },
  {
   "cell_type": "markdown",
   "id": "4b97e91b-2cec-4804-a309-45f1b93233d1",
   "metadata": {},
   "source": [
    "10. what does pip stands for python ?   \n",
    " => preferred installer program"
   ]
  },
  {
   "cell_type": "markdown",
   "id": "9c15417f-d9f2-4f25-bafa-341d53fc3545",
   "metadata": {},
   "source": [
    "11. Mention a few built in functions in python ?    \n",
    "=> list(),int(),float(),dict(),append(),pop() etc"
   ]
  },
  {
   "cell_type": "markdown",
   "id": "48d18045-c45b-4e8d-b7d5-1c74ad7d928e",
   "metadata": {},
   "source": [
    "12. What is the maximum possible length of an identifier in Python ?       \n",
    " => 79 charecters"
   ]
  },
  {
   "cell_type": "markdown",
   "id": "eca2eedd-04c7-4799-808d-04aa194a78cc",
   "metadata": {},
   "source": [
    "13. What are benifits of using Python ?      \n",
    " => (a) It is simple to use      \n",
    "    (b) Productivity has increased\n",
    "    (c) Interpreted language     \n",
    "    (d) Extensive Library      \n",
    "    (e) Dynamically typed       \n",
    "    (f) Portability       \n",
    "    (e) Supportive community       "
   ]
  },
  {
   "cell_type": "markdown",
   "id": "e0459302-8d60-4f01-98bf-b4018d2ceb6b",
   "metadata": {},
   "source": [
    "ccc"
   ]
  },
  {
   "cell_type": "markdown",
   "id": "b8ac4909-b3c6-486b-8bef-2e2ead344c8b",
   "metadata": {},
   "source": [
    "14. How is memory managed in python ?       \n",
    " => Memory management in python includes a private heap containing all python objects and data structures.Themanagement of this private heap is ensured internelly by the Python memory manager."
   ]
  },
  {
   "cell_type": "markdown",
   "id": "69b720c5-446d-459d-b680-558f4ac4e523",
   "metadata": {},
   "source": [
    "15. How to install python in windows and set path variables ?            \n",
    " => 1. Right-clicking This PC and going to Properties.\n",
    "    2. Clicking on the Advanced system settings in the menu on the left.\n",
    "    3. Clicking on the Environment Variables button on the bottom right.\n",
    "    4. In the System variables section, selecting the Path variable and clicking on Edit."
   ]
  },
  {
   "cell_type": "markdown",
   "id": "f0418771-59ab-4f83-8263-03c93de992b9",
   "metadata": {},
   "source": [
    "16. Is indentation required in python ?     \n",
    " => Yes indentation very necessary in python"
   ]
  },
  {
   "cell_type": "code",
   "execution_count": null,
   "id": "263c60e8-d730-46d4-a9d5-363be1c9d013",
   "metadata": {},
   "outputs": [],
   "source": []
  }
 ],
 "metadata": {
  "kernelspec": {
   "display_name": "Python 3 (ipykernel)",
   "language": "python",
   "name": "python3"
  },
  "language_info": {
   "codemirror_mode": {
    "name": "ipython",
    "version": 3
   },
   "file_extension": ".py",
   "mimetype": "text/x-python",
   "name": "python",
   "nbconvert_exporter": "python",
   "pygments_lexer": "ipython3",
   "version": "3.10.8"
  }
 },
 "nbformat": 4,
 "nbformat_minor": 5
}
